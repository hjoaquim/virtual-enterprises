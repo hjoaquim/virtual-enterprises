{
 "cells": [
  {
   "cell_type": "markdown",
   "metadata": {},
   "source": [
    "# Application of TOPSIS method for partner selection\n"
   ]
  },
  {
   "cell_type": "markdown",
   "metadata": {},
   "source": [
    "### What is TOPSIS?\n",
    "The Technique for Order of Preference by Similarity to Ideal Solution (TOPSIS) is a multi-criteria decision analysis method, which was originally developed by Ching-Lai Hwang and Yoon in 1981 with further developments by Yoon in 1987, and Hwang, Lai and Liu in 1993. TOPSIS is based on the concept that the chosen alternative should have the shortest geometric distance from the positive ideal solution (PIS) and the longest geometric distance from the negative ideal solution (NIS)."
   ]
  },
  {
   "cell_type": "markdown",
   "metadata": {},
   "source": [
    "### Description\n",
    "It is a method of compensatory aggregation that compares a set of alternatives by identifying weights for each criterion, normalising scores for each criterion and calculating the geometric distance between each alternative and the ideal alternative, which is the best score in each criterion. An assumption of TOPSIS is that the criteria are monotonically increasing or decreasing. Normalisation is usually required as the parameters or criteria are often of incongruous dimensions in multi-criteria problems. Compensatory methods such as TOPSIS allow trade-offs between criteria, where a poor result in one criterion can be negated by a good result in another criterion. This provides a more realistic form of modelling than non-compensatory methods, which include or exclude alternative solutions based on hard cut-offs.\n",
    "\n",
    "More info: https://en.wikipedia.org/wiki/TOPSIS#cite_note-indjst.org-4\n",
    "\n",
    "TOPSIS calcultator example: https://decision-radar.com/Topsis.html"
   ]
  },
  {
   "cell_type": "markdown",
   "metadata": {},
   "source": [
    "### Definition of a Class Company\n",
    "\n",
    "This class represent a company and have the parameters that we're going to use in our TOPSIS analysis, wich are:\n",
    "- Quality\n",
    "- Price\n",
    "- Support\n",
    "- User community\n",
    "- Reliability"
   ]
  },
  {
   "cell_type": "code",
   "execution_count": 1,
   "metadata": {},
   "outputs": [],
   "source": [
    "import numpy as np"
   ]
  },
  {
   "cell_type": "code",
   "execution_count": 2,
   "metadata": {},
   "outputs": [],
   "source": [
    "class Company:\n",
    "    def __init__(self,name,quality=0,support=0,user_com=0,reliability=0):\n",
    "        self.name = name\n",
    "        self.quality = quality\n",
    "        self.support = support\n",
    "        self.user_com = user_com\n",
    "        self.reliability = reliability\n",
    "\n",
    "    def give_name(self):\n",
    "        return self.name\n",
    "    \n",
    "    def give_quality(self):\n",
    "        return self.quality\n",
    "    \n",
    "    def give_support(self):\n",
    "        return self.support\n",
    "    \n",
    "    def give_user_com(self):\n",
    "        return self.user_com\n",
    "\n",
    "    def give_reliability(self):\n",
    "        return self.reliability"
   ]
  },
  {
   "cell_type": "code",
   "execution_count": 3,
   "metadata": {},
   "outputs": [],
   "source": [
    "#initializing some companys to work with an example:\n",
    "\n",
    "company1 = Company('google',quality=8,support=7,user_com=10,reliability=7)\n",
    "company2 = Company('azure',quality=7,support=7,user_com=9,reliability=7)\n",
    "company3 = Company('amazon',quality=8,support=8,user_com=10,reliability=8)\n",
    "company4 = Company('ibm',quality=9,support=9,user_com=8,reliability=9)\n",
    "company5 = Company('oracle',quality=7,support=8,user_com=8,reliability=7)"
   ]
  },
  {
   "cell_type": "markdown",
   "metadata": {},
   "source": [
    "We have to distribute the weights for our parameters:"
   ]
  },
  {
   "cell_type": "code",
   "execution_count": 4,
   "metadata": {},
   "outputs": [],
   "source": [
    "dict_parameters = {'quality':0.25,'support':0.15,'user_com':0.2,'reliability':0.3}\n",
    "params_list = [dict_parameters['quality'],dict_parameters['support'],\n",
    "               dict_parameters['user_com'],dict_parameters['reliability']]"
   ]
  },
  {
   "cell_type": "markdown",
   "metadata": {},
   "source": [
    "### Step 1: Normalization"
   ]
  },
  {
   "cell_type": "code",
   "execution_count": 5,
   "metadata": {},
   "outputs": [
    {
     "name": "stdout",
     "output_type": "stream",
     "text": [
      "[[ 8.  7. 10.  7.]\n",
      " [ 7.  7.  9.  7.]\n",
      " [ 8.  8. 10.  8.]\n",
      " [ 9.  9.  8.  9.]\n",
      " [ 7.  8.  8.  7.]]\n"
     ]
    }
   ],
   "source": [
    "#list of companies:\n",
    "list_of_comps = []\n",
    "list_of_comps.append(company1); list_of_comps.append(company2)\n",
    "list_of_comps.append(company3);list_of_comps.append(company4);list_of_comps.append(company5)\n",
    "\n",
    "topsis_matrix = np.array\n",
    "topsis_matrix = []\n",
    "row = []\n",
    "for company in list_of_comps :\n",
    "    row.append(company.give_quality())\n",
    "    row.append(company.give_support())\n",
    "    row.append(company.give_user_com())\n",
    "    row.append(company.give_reliability())\n",
    "    topsis_matrix = np.append(topsis_matrix,row)\n",
    "    row.clear()\n",
    "    \n",
    "topsis_matrix = topsis_matrix.reshape(5,4)\n",
    "print(topsis_matrix)\n",
    "\n",
    "#something like this \n",
    " #[['Company' 'Quality' 'Support' 'User Community' 'Reliability']\n",
    " #['google'     '8'       '7'         '10'             '7']\n",
    " #['azure'      '7'       '7'         '9'              '7']\n",
    " #['amazon'     '8'       '8'         '10'             '8']\n",
    " #['ibm'        '9'       '9'         '8'              '9']\n",
    " #['oracle'     '7'       '8'         '8'              '7']]\n"
   ]
  },
  {
   "cell_type": "markdown",
   "metadata": {},
   "source": [
    "As you can see, we don't have the normal matrix just yet! Let's normalize it."
   ]
  },
  {
   "cell_type": "code",
   "execution_count": 6,
   "metadata": {},
   "outputs": [
    {
     "name": "stdout",
     "output_type": "stream",
     "text": [
      "[[0.20512821 0.17948718 0.22222222 0.18421053]\n",
      " [0.17948718 0.17948718 0.2        0.18421053]\n",
      " [0.20512821 0.20512821 0.22222222 0.21052632]\n",
      " [0.23076923 0.23076923 0.17777778 0.23684211]\n",
      " [0.17948718 0.20512821 0.17777778 0.18421053]]\n"
     ]
    }
   ],
   "source": [
    "topsis_matrix_norm = topsis_matrix / topsis_matrix.sum(axis=0)\n",
    "print(topsis_matrix_norm)"
   ]
  },
  {
   "cell_type": "markdown",
   "metadata": {},
   "source": [
    "### Step 2: Consider weights"
   ]
  },
  {
   "cell_type": "code",
   "execution_count": 29,
   "metadata": {},
   "outputs": [
    {
     "name": "stdout",
     "output_type": "stream",
     "text": [
      "[[0.05128205 0.04487179 0.05128205 0.05769231]\n",
      " [0.04487179 0.02692308 0.02692308 0.03076923]\n",
      " [0.03461538 0.03076923 0.04444444 0.04      ]\n",
      " [0.04444444 0.03555556 0.03555556 0.05526316]\n",
      " [0.05526316 0.06315789 0.07105263 0.05526316]]\n"
     ]
    }
   ],
   "source": [
    "topsis_matrix_norm_weighted = np.array\n",
    "topsis_matrix_norm_weighted = []\n",
    "\n",
    "i=0\n",
    "while (i < topsis_matrix_norm.shape[0]-1):\n",
    "    topsis_matrix_norm_weighted = np.append(topsis_matrix_norm_weighted,topsis_matrix_norm[:,i]*params_list[i])\n",
    "    i=i+1\n",
    "\n",
    "topsis_matrix_norm_weighted = topsis_matrix_norm_weighted.reshape(5,4)\n",
    "print(topsis_matrix_norm_weighted)"
   ]
  },
  {
   "cell_type": "markdown",
   "metadata": {},
   "source": [
    "### Step 3a: Determine ideal positive solution"
   ]
  },
  {
   "cell_type": "code",
   "execution_count": 8,
   "metadata": {},
   "outputs": [
    {
     "name": "stdout",
     "output_type": "stream",
     "text": [
      "[0.05526316 0.06315789 0.07105263 0.05769231]\n"
     ]
    }
   ],
   "source": [
    "ideal_positive_sol = np.array\n",
    "ideal_positive_sol = []\n",
    "\n",
    "ideal_positive_sol = topsis_matrix_norm_weighted.max(axis=0)\n",
    "print (ideal_positive_sol)"
   ]
  },
  {
   "cell_type": "markdown",
   "metadata": {},
   "source": [
    "### Step 3b: Determine ideal negative solution"
   ]
  },
  {
   "cell_type": "code",
   "execution_count": 28,
   "metadata": {},
   "outputs": [
    {
     "name": "stdout",
     "output_type": "stream",
     "text": [
      "[0.03461538 0.02692308 0.02692308 0.03076923]\n"
     ]
    }
   ],
   "source": [
    "ideal_negative_sol = np.array\n",
    "ideal_negative_sol = []\n",
    "\n",
    "ideal_negative_sol = topsis_matrix_norm_weighted.min(axis=0)\n",
    "print (ideal_negative_sol)"
   ]
  },
  {
   "cell_type": "markdown",
   "metadata": {},
   "source": [
    "### Step 4a: Determine separation from ideal solution"
   ]
  },
  {
   "cell_type": "code",
   "execution_count": 41,
   "metadata": {},
   "outputs": [
    {
     "name": "stdout",
     "output_type": "stream",
     "text": [
      "[[1.58492099e-05 1.07980425e-04 4.26330541e-04 1.17044561e-04]\n",
      " [0.00000000e+00 3.34381448e-04 1.31296202e-03 1.04902555e-03]\n",
      " [7.61889128e-04 0.00000000e+00 3.90875845e-04 1.94741759e-03]\n",
      " [7.07995623e-04 1.26004241e-03 0.00000000e+00 0.00000000e+00]\n",
      " [7.24852071e-04 3.13017751e-04 5.90076874e-06 5.90076874e-06]]\n"
     ]
    }
   ],
   "source": [
    "ideal_positive_mat = np.array\n",
    "ideal_positive_mat = []\n",
    "\n",
    "i=0\n",
    "while (i < topsis_matrix_norm_weighted.shape[0]-1):\n",
    "    ideal_positive_mat = np.append( ideal_positive_mat, (topsis_matrix_norm_weighted[:,i]-ideal_positive_sol[i])**2 )\n",
    "    i = i+1\n",
    "\n",
    "ideal_positive_mat = ideal_positive_mat.reshape(5,4)\n",
    "print(ideal_positive_mat)"
   ]
  },
  {
   "cell_type": "markdown",
   "metadata": {},
   "source": [
    "And the sum for each company:"
   ]
  },
  {
   "cell_type": "code",
   "execution_count": 51,
   "metadata": {},
   "outputs": [
    {
     "name": "stdout",
     "output_type": "stream",
     "text": [
      "[[0.02583031]\n",
      " [0.05192657]\n",
      " [0.05567928]\n",
      " [0.04436257]\n",
      " [0.03239863]]\n"
     ]
    }
   ],
   "source": [
    "from numpy import sqrt\n",
    "sum_pos = np.array\n",
    "sum_pos = sqrt(np.sum(ideal_positive_mat,axis=1))\n",
    "sum_pos = sum_pos.reshape(5,1)\n",
    "print(sum_pos)"
   ]
  },
  {
   "cell_type": "markdown",
   "metadata": {},
   "source": [
    "### Step 4b: Determine separation from negative ideal solution"
   ]
  },
  {
   "cell_type": "code",
   "execution_count": 39,
   "metadata": {},
   "outputs": [
    {
     "name": "stdout",
     "output_type": "stream",
     "text": [
      "[[2.77777778e-04 1.05193951e-04 0.00000000e+00 9.66104171e-05]\n",
      " [4.26330541e-04 3.22156476e-04 0.00000000e+00 1.47928994e-05]\n",
      " [7.45196873e-05 1.31296202e-03 5.93359632e-04 0.00000000e+00]\n",
      " [3.06998320e-04 7.45196873e-05 1.94741759e-03 7.24852071e-04]\n",
      " [0.00000000e+00 8.52071006e-05 5.99952466e-04 5.99952466e-04]]\n"
     ]
    }
   ],
   "source": [
    "ideal_negative_matrix = np.array\n",
    "ideal_negative_matrix = []\n",
    "\n",
    "i=0\n",
    "while (i < topsis_matrix_norm_weighted.shape[0]-1):\n",
    "    ideal_negative_matrix = np.append( ideal_negative_matrix, (topsis_matrix_norm_weighted[:,i]-ideal_negative_sol[i])**2 )\n",
    "    i = i+1\n",
    "\n",
    "ideal_negative_matrix = ideal_negative_matrix.reshape(5,4)\n",
    "print(ideal_negative_matrix)"
   ]
  },
  {
   "cell_type": "code",
   "execution_count": 52,
   "metadata": {},
   "outputs": [
    {
     "name": "stdout",
     "output_type": "stream",
     "text": [
      "[[0.02583031]\n",
      " [0.05192657]\n",
      " [0.05567928]\n",
      " [0.04436257]\n",
      " [0.03239863]]\n"
     ]
    }
   ],
   "source": [
    "from numpy import sqrt\n",
    "sum_neg = np.array\n",
    "sum_neg = sqrt(np.sum(ideal_negative_matrix,axis=1))\n",
    "sum_neg = sum_neg.reshape(5,1)\n",
    "print(sum_)"
   ]
  },
  {
   "cell_type": "markdown",
   "metadata": {},
   "source": [
    "### Step 5: Calculate the relative closeness to the ideal solution "
   ]
  },
  {
   "cell_type": "code",
   "execution_count": 58,
   "metadata": {},
   "outputs": [
    {
     "name": "stdout",
     "output_type": "stream",
     "text": [
      "[[0.45882077]\n",
      " [0.34727969]\n",
      " [0.44424048]\n",
      " [0.55469841]\n",
      " [0.52527454]]\n",
      "Best score: 0.5546984103098137\n"
     ]
    }
   ],
   "source": [
    "sol_matrix = np.array\n",
    "\n",
    "sol_matrix = sum_neg / (sum_neg + sum_pos)\n",
    "\n",
    "sol_matrix = sol_matrix.reshape(5,1)\n",
    "print(sol_matrix)\n",
    "print(\"Best score: {}\".format(sol_matrix.max()))"
   ]
  },
  {
   "cell_type": "markdown",
   "metadata": {},
   "source": [
    "#### So we can conclude that our best potential partner is:"
   ]
  },
  {
   "cell_type": "code",
   "execution_count": 60,
   "metadata": {},
   "outputs": [
    {
     "name": "stdout",
     "output_type": "stream",
     "text": [
      "ibm\n"
     ]
    }
   ],
   "source": [
    "print(list_of_comps[3].give_name())"
   ]
  },
  {
   "cell_type": "markdown",
   "metadata": {},
   "source": [
    "## Conclusion\n",
    "\n",
    "As we can see this is a super easy to understand and basic example of TOPSIS method using Python!\n",
    "However, we could easily make an application with all the methods used and generalize it to make a real partner calculator!"
   ]
  }
 ],
 "metadata": {
  "kernelspec": {
   "display_name": "Python 3",
   "language": "python",
   "name": "python3"
  },
  "language_info": {
   "codemirror_mode": {
    "name": "ipython",
    "version": 3
   },
   "file_extension": ".py",
   "mimetype": "text/x-python",
   "name": "python",
   "nbconvert_exporter": "python",
   "pygments_lexer": "ipython3",
   "version": "3.6.9"
  }
 },
 "nbformat": 4,
 "nbformat_minor": 4
}
